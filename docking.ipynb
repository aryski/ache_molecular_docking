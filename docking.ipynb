{
 "cells": [
  {
   "cell_type": "markdown",
   "metadata": {},
   "source": [
    "# Docking Workflow Notebook\n",
    "Target: Acetylcholinesterase (PDB: 4EY7) with Donepezil (E20) binding sites."
   ]
  },
  {
   "cell_type": "markdown",
   "metadata": {},
   "source": [
    "## 1. Receptor Preparation"
   ]
  },
  {
   "cell_type": "markdown",
   "metadata": {},
   "source": [
    "### Step 1.1: Receptor Preparation with PDBFixer"
   ]
  },
  {
   "cell_type": "code",
   "execution_count": 1,
   "metadata": {},
   "outputs": [],
   "source": [
    "from pdbfixer import PDBFixer\n",
    "from openmm.app import PDBFile\n",
    "import os\n",
    "import glob\n",
    "from subprocess import run, CalledProcessError\n",
    "\n",
    "input_pdb_filename = \"4ey7.pdb\"\n",
    "output_protein_pdb_filename = \"4EY7_prepped.pdb\"\n",
    "target_ph_for_hydrogens = 7.4\n",
    "\n",
    "if not os.path.exists(input_pdb_filename):\n",
    "    raise FileNotFoundError(f\"Input PDB file '{input_pdb_filename}' not found.\")\n",
    "\n",
    "fixer = PDBFixer(filename=input_pdb_filename)\n",
    "fixer.findNonstandardResidues()\n",
    "# E20 (Donepezil) and other heteroatoms will be removed by removeHeterogens.\n",
    "fixer.removeHeterogens(keepWater=False)\n",
    "fixer.findMissingResidues()\n",
    "fixer.findMissingAtoms()\n",
    "if fixer.missingAtoms:\n",
    "    fixer.addMissingAtoms() \n",
    "fixer.addMissingHydrogens(pH=target_ph_for_hydrogens)\n",
    "\n",
    "with open(output_protein_pdb_filename, 'w') as f:\n",
    "    PDBFile.writeFile(fixer.topology, fixer.positions, f)\n"
   ]
  },
  {
   "cell_type": "markdown",
   "metadata": {},
   "source": [
    "### Step 1.2: Find E20 sites\n",
    "Use ChimeraX and 4ey7.pdb, and perform following commands:\n",
    "\n",
    "`select /A:604`\n",
    "\n",
    "`save e20_A604_for_box.pdb models sel selectedOnly true`\n",
    "\n",
    "`select clear`\n",
    "\n",
    "`select /B:605`\n",
    "\n",
    "`save e20_B605_for_box.pdb models sel selectedOnly true`"
   ]
  },
  {
   "cell_type": "markdown",
   "metadata": {},
   "source": [
    "### Step 1.3\n",
    "Receptor PDBQT and Docking Box Generation for Each E20 Site\n",
    "\n",
    "Site-specific files will be placed into dedicated directories named by site ID."
   ]
  },
  {
   "cell_type": "code",
   "execution_count": 82,
   "metadata": {},
   "outputs": [],
   "source": [
    "def prepare_meeko_receptor_for_site(base_protein_pdb, site_ligand_definition_pdb, site_processing_directory, site_common_name_for_meeko_outputs, box_padding_value):\n",
    "    \"\"\"\n",
    "    Prepares receptor PDBQT and Vina box files for a specific site using Meeko,\n",
    "    placing outputs in the site_processing_directory.\n",
    "    Returns a dictionary with paths to key files if successful, None otherwise.\n",
    "    \"\"\"\n",
    "    os.makedirs(site_processing_directory, exist_ok=True)\n",
    "    # Meeko outputs will be like: <site_processing_directory>/<site_common_name_for_meeko_outputs>.pdbqt\n",
    "    meeko_output_basepath = os.path.join(site_processing_directory, site_common_name_for_meeko_outputs)\n",
    "\n",
    "    if not os.path.exists(base_protein_pdb):\n",
    "        print(f\"ERROR: Base receptor PDB '{base_protein_pdb}' not found for Meeko processing of site {site_common_name_for_meeko_outputs}.\")\n",
    "        return None\n",
    "    if not os.path.exists(site_ligand_definition_pdb):\n",
    "        print(f\"ERROR: Site definition PDB '{site_ligand_definition_pdb}' not found for {site_common_name_for_meeko_outputs}.\")\n",
    "        return None\n",
    "\n",
    "    meeko_command = (\n",
    "        f\"mk_prepare_receptor.py --read_pdb {base_protein_pdb} \"\n",
    "        f\"-o {meeko_output_basepath} -p -v \"\n",
    "        f\"--box_enveloping {site_ligand_definition_pdb} --padding {box_padding_value}\"\n",
    "    )\n",
    "    return_code = os.system(meeko_command)\n",
    "\n",
    "    receptor_pdbqt_path = f\"{meeko_output_basepath}.pdbqt\"\n",
    "    box_config_path = f\"{meeko_output_basepath}.box.txt\"\n",
    "\n",
    "    if return_code == 0 and os.path.exists(receptor_pdbqt_path) and os.path.exists(box_config_path):\n",
    "        return {\n",
    "            \"receptor_pdbqt\": receptor_pdbqt_path,\n",
    "            \"box_config\": box_config_path,\n",
    "            \"site_dir\": site_processing_directory, # The main directory for this site's files\n",
    "            \"site_meeko_base\": meeko_output_basepath # Base path for Meeko generated files within site_dir\n",
    "        }\n",
    "    else:\n",
    "        print(f\"ERROR: Meeko preparation failed for {site_common_name_for_meeko_outputs} (return code {return_code}).\")\n",
    "        return None\n",
    "\n",
    "default_box_padding = 10"
   ]
  },
  {
   "cell_type": "code",
   "execution_count": 4,
   "metadata": {},
   "outputs": [
    {
     "name": "stdout",
     "output_type": "stream",
     "text": [
      "\n",
      "Files written:\n",
      "  A604/4EY7_A604.pdbqt <-- static (i.e., rigid) receptor input file\n",
      "A604/4EY7_A604.box.txt <-- Vina-style box dimension file\n",
      "A604/4EY7_A604.box.pdb <-- PDB file to visualize the grid box\n"
     ]
    }
   ],
   "source": [
    "# Site A604 (E20 originally at /A:604)\n",
    "site_A604_identifier = \"A604\"\n",
    "site_A604_ligand_definition_pdb = \"e20_A604_for_box.pdb\"\n",
    "site_A604_main_directory = f\"{site_A604_identifier}/\" # Directory will be \"A604/\"\n",
    "site_A604_meeko_output_basename = f\"4EY7_{site_A604_identifier}\" # e.g., 4EY7_A604\n",
    "site_A604_preparation_results = prepare_meeko_receptor_for_site(\n",
    "    output_protein_pdb_filename,\n",
    "    site_A604_ligand_definition_pdb,\n",
    "    site_A604_main_directory,\n",
    "    site_A604_meeko_output_basename,\n",
    "    default_box_padding\n",
    ")"
   ]
  },
  {
   "cell_type": "code",
   "execution_count": 5,
   "metadata": {},
   "outputs": [
    {
     "name": "stdout",
     "output_type": "stream",
     "text": [
      "\n",
      "Files written:\n",
      "  B605/4EY7_B605.pdbqt <-- static (i.e., rigid) receptor input file\n",
      "B605/4EY7_B605.box.txt <-- Vina-style box dimension file\n",
      "B605/4EY7_B605.box.pdb <-- PDB file to visualize the grid box\n"
     ]
    }
   ],
   "source": [
    "# Site B605 (representing E20 originally at /B:605, using user-defined name \"B605\" for outputs)\n",
    "site_B605_identifier = \"B605\" \n",
    "site_B605_ligand_definition_pdb = \"e20_B605_for_box.pdb\" # User specified this filename\n",
    "site_B605_main_directory = f\"{site_B605_identifier}/\" # Directory will be \"B605/\"\n",
    "site_B605_meeko_output_basename = f\"4EY7_{site_B605_identifier}\" # e.g., 4EY7_B605\n",
    "site_B605_preparation_results = prepare_meeko_receptor_for_site(\n",
    "    output_protein_pdb_filename,\n",
    "    site_B605_ligand_definition_pdb,\n",
    "    site_B605_main_directory,\n",
    "    site_B605_meeko_output_basename,\n",
    "    default_box_padding\n",
    ")"
   ]
  },
  {
   "cell_type": "markdown",
   "metadata": {},
   "source": [
    "## 2. Ligand Preparation\n",
    "This section prepares a common set of ligands"
   ]
  },
  {
   "cell_type": "markdown",
   "metadata": {},
   "source": [
    "### Step 2.1: Generate 3D conformers with Scrubber from SMILES"
   ]
  },
  {
   "cell_type": "code",
   "execution_count": 83,
   "metadata": {},
   "outputs": [
    {
     "name": "stdout",
     "output_type": "stream",
     "text": [
      "Scrub completed.\n",
      "Summary of what happened:\n",
      "Input molecules supplied: 4\n",
      "mols processed: 4, skipped by rdkit: 0, failed: 0\n",
      "nr isomers (tautomers and acid/base conjugates): 8 (avg. 2.000 per mol)\n",
      "nr conformers:  8 (avg. 1.000 per isomer, 2.000 per mol)\n"
     ]
    },
    {
     "data": {
      "text/plain": [
       "0"
      ]
     },
     "execution_count": 83,
     "metadata": {},
     "output_type": "execute_result"
    }
   ],
   "source": [
    "ligands_smiles_file = \"ligands.smi\"\n",
    "generated_sdf_file_from_smiles = \"mols_initial.sdf\" \n",
    "\n",
    "os.system(f\"scrub.py {ligands_smiles_file} -o {generated_sdf_file_from_smiles}\")"
   ]
  },
  {
   "cell_type": "markdown",
   "metadata": {},
   "source": [
    "### Step 2.2: Remove salts and keep largest fragment using RDKit"
   ]
  },
  {
   "cell_type": "code",
   "execution_count": 84,
   "metadata": {},
   "outputs": [],
   "source": [
    "from rdkit import Chem\n",
    "from rdkit.Chem import SaltRemover, SDWriter\n",
    "\n",
    "input_sdf_for_rdkit_processing = generated_sdf_file_from_smiles\n",
    "output_sdf_after_rdkit_processing = \"mols_desalted.sdf\" \n",
    "ligands_written_count_after_rdkit = 0\n",
    "\n",
    "supplier = Chem.SDMolSupplier(input_sdf_for_rdkit_processing, removeHs=False, sanitize=False)\n",
    "remover = SaltRemover.SaltRemover()\n",
    "with SDWriter(output_sdf_after_rdkit_processing) as writer:\n",
    "    for mol in supplier:\n",
    "        if mol is None: continue\n",
    "        Chem.SanitizeMol(mol)\n",
    "        stripped_mol = remover.StripMol(mol, dontRemoveEverything=True)\n",
    "        fragments = Chem.GetMolFrags(stripped_mol, asMols=True, sanitizeFrags=True)\n",
    "        if not fragments: continue\n",
    "        \n",
    "        valid_fragments = [f for f in fragments if f is not None]\n",
    "        if not valid_fragments: continue\n",
    "        largest_fragment = max(valid_fragments, key=lambda f: f.GetNumHeavyAtoms(), default=None)\n",
    "        \n",
    "        if largest_fragment:\n",
    "            writer.write(largest_fragment)\n",
    "            ligands_written_count_after_rdkit += 1\n",
    "      "
   ]
  },
  {
   "cell_type": "markdown",
   "metadata": {},
   "source": [
    "### Step 2.3: Prepare ligand PDBQT files with Meeko"
   ]
  },
  {
   "cell_type": "code",
   "execution_count": 85,
   "metadata": {},
   "outputs": [
    {
     "name": "stdout",
     "output_type": "stream",
     "text": [
      "Input molecules processed: 8, skipped: 0\n",
      "PDBQT files written: 8\n",
      "PDBQT files not written due to error: 0\n",
      "Input molecules with errors: 0\n",
      "No duplicate molecule molecule names were found\n"
     ]
    },
    {
     "data": {
      "text/plain": [
       "0"
      ]
     },
     "execution_count": 85,
     "metadata": {},
     "output_type": "execute_result"
    }
   ],
   "source": [
    "common_ligand_pdbqt_dir = \"common_ligands_pdbqt/\" \n",
    "\n",
    "os.makedirs(common_ligand_pdbqt_dir, exist_ok=True)\n",
    "os.system(f\"mk_prepare_ligand.py -i {output_sdf_after_rdkit_processing} --multimol_outdir {common_ligand_pdbqt_dir}\")\n"
   ]
  },
  {
   "cell_type": "markdown",
   "metadata": {},
   "source": [
    "## 3. Running AutoDock Vina for Each Prepared Site"
   ]
  },
  {
   "cell_type": "code",
   "execution_count": 86,
   "metadata": {},
   "outputs": [],
   "source": [
    "def run_vina_docking_for_prepared_site(\n",
    "    site_tag, # e.g., \"A604\" or \"B605\"\n",
    "    site_meeko_data, # This is the dictionary returned by prepare_meeko_receptor_for_site\n",
    "    common_ligands_pdbqt_directory, \n",
    "    vina_executable_cmd, \n",
    "    vina_cpu_cores, \n",
    "    vina_search_exhaustiveness, \n",
    "    vina_number_of_modes\n",
    "):\n",
    "    \"\"\"Runs AutoDock Vina for all ligands against a specific prepared site.\"\"\"\n",
    "    \n",
    "    receptor_pdbqt_file = site_meeko_data[\"receptor_pdbqt\"]\n",
    "    box_config_file = site_meeko_data[\"box_config\"]\n",
    "    # site_main_dir is the parent directory for this site (e.g., \"A604/\")\n",
    "    site_main_dir = site_meeko_data[\"site_dir\"] \n",
    "    \n",
    "    vina_results_subdir = os.path.join(site_main_dir, \"vina_results\") # Subdirectory within the site's main directory\n",
    "    vina_logs_subdir = os.path.join(site_main_dir, \"vina_logs\") \n",
    "    os.makedirs(vina_results_subdir, exist_ok=True)\n",
    "    os.makedirs(vina_logs_subdir, exist_ok=True)\n",
    "\n",
    "    if not (os.path.exists(receptor_pdbqt_file) and os.path.exists(box_config_file)):\n",
    "        return\n",
    "\n",
    "    all_ligands_for_docking = glob.glob(os.path.join(common_ligands_pdbqt_directory, \"*.pdbqt\"))\n",
    "    if not all_ligands_for_docking:\n",
    "        return\n",
    "    \n",
    "    print(f\"\\n--- Starting Vina Docking for Site: {site_tag} (Files in {site_main_dir}) ---\")\n",
    "\n",
    "    for ligand_pdbqt_filepath in all_ligands_for_docking:\n",
    "        ligand_filename_base = os.path.basename(ligand_pdbqt_filepath).replace(\".pdbqt\", \"\")\n",
    "        # Output filenames are simpler as they are already in site-specific directories\n",
    "        docked_poses_output_filepath = os.path.join(vina_results_subdir, f\"{ligand_filename_base}_docked.pdbqt\")\n",
    "        vina_captured_output_log_filepath = os.path.join(vina_logs_subdir, f\"{ligand_filename_base}_vina_log.txt\") \n",
    "        \n",
    "        vina_execution_command = [\n",
    "            vina_executable_cmd,\n",
    "            \"--receptor\", receptor_pdbqt_file,\n",
    "            \"--ligand\", ligand_pdbqt_filepath,\n",
    "            \"--config\", box_config_file,\n",
    "            \"--out\", docked_poses_output_filepath,\n",
    "            \"--cpu\", str(vina_cpu_cores),\n",
    "            \"--exhaustiveness\", str(vina_search_exhaustiveness),\n",
    "            \"--num_modes\", str(vina_number_of_modes)\n",
    "        ]\n",
    "        \n",
    "        try:\n",
    "            vina_run_result = run(vina_execution_command, capture_output=True, text=True, check=True)\n",
    "            with open(vina_captured_output_log_filepath, 'w') as f_log_output:\n",
    "                f_log_output.write(\"--- Vina Standard Output ---\\n\")\n",
    "                f_log_output.write(vina_run_result.stdout)\n",
    "                f_log_output.write(\"\\n--- Vina Standard Error ---\\n\")\n",
    "                f_log_output.write(vina_run_result.stderr)\n",
    "        except CalledProcessError as e_vina_run:\n",
    "            with open(vina_captured_output_log_filepath, 'w') as f_log_error_output:\n",
    "                f_log_error_output.write(f\"Vina command failed with return code {e_vina_run.returncode}\\n\")\n",
    "                if e_vina_run.stdout: f_log_error_output.write(f\"--- Vina STDOUT ---\\n{e_vina_run.stdout}\\n\")\n",
    "                if e_vina_run.stderr: f_log_error_output.write(f\"--- Vina STDERR ---\\n{e_vina_run.stderr}\\n\")\n",
    "        except FileNotFoundError:\n",
    "            print(f\"ERROR: Vina executable '{vina_executable_cmd}' not found. Halting docking for site {site_tag}.\")\n",
    "            return \n",
    "        except Exception: \n",
    "            pass \n",
    "\n",
    "# Vina General Configuration\n",
    "vina_executable_command = \"vina\" \n",
    "vina_cpu_setting_val = \"0\"\n",
    "vina_exhaustiveness_setting_val = \"8\"\n",
    "vina_num_modes_setting_val = \"9\""
   ]
  },
  {
   "cell_type": "code",
   "execution_count": 87,
   "metadata": {},
   "outputs": [
    {
     "name": "stdout",
     "output_type": "stream",
     "text": [
      "\n",
      "--- Starting Vina Docking for Site: A604 (Files in A604/) ---\n"
     ]
    }
   ],
   "source": [
    "# Docking for Site A604\n",
    "if site_A604_preparation_results:\n",
    "    run_vina_docking_for_prepared_site(\n",
    "        site_tag=site_A604_identifier, \n",
    "        site_meeko_data=site_A604_preparation_results,\n",
    "        common_ligands_pdbqt_directory=common_ligand_pdbqt_dir,\n",
    "        vina_executable_cmd=vina_executable_command,\n",
    "        vina_cpu_cores=vina_cpu_setting_val,\n",
    "        vina_search_exhaustiveness=vina_exhaustiveness_setting_val,\n",
    "        vina_number_of_modes=vina_num_modes_setting_val\n",
    "    )\n",
    "else:\n",
    "    print(f\"Skipping Vina docking for site {site_A604_identifier} as its preparation failed or was skipped.\")"
   ]
  },
  {
   "cell_type": "code",
   "execution_count": 11,
   "metadata": {},
   "outputs": [
    {
     "name": "stdout",
     "output_type": "stream",
     "text": [
      "\n",
      "--- Starting Vina Docking for Site: B605 (Files in B605/) ---\n"
     ]
    }
   ],
   "source": [
    "# Docking for Site B605\n",
    "if site_B605_preparation_results:\n",
    "    run_vina_docking_for_prepared_site(\n",
    "        site_tag=site_B605_identifier, \n",
    "        site_meeko_data=site_B605_preparation_results,\n",
    "        common_ligands_pdbqt_directory=common_ligand_pdbqt_dir,\n",
    "        vina_executable_cmd=vina_executable_command,\n",
    "        vina_cpu_cores=vina_cpu_setting_val,\n",
    "        vina_search_exhaustiveness=vina_exhaustiveness_setting_val,\n",
    "        vina_number_of_modes=vina_num_modes_setting_val\n",
    "    )\n",
    "else:\n",
    "    print(f\"Skipping Vina docking for site {site_B605_identifier} as its preparation failed or was skipped.\")"
   ]
  },
  {
   "cell_type": "code",
   "execution_count": 88,
   "metadata": {},
   "outputs": [
    {
     "name": "stdout",
     "output_type": "stream",
     "text": [
      "\n",
      "--- Top 10 Ligands for Site: A604 ---\n",
      "          Ligand  Affinity Site\n",
      "CHEMBL1083069_i1   -12.930 A604\n",
      "CHEMBL1083069_i0   -12.660 A604\n",
      "CHEMBL1083069_i2   -12.550 A604\n",
      "CHEMBL1083069_i3   -12.430 A604\n",
      "    CHEMBL345905   -10.590 A604\n",
      " CHEMBL263322_i0   -10.500 A604\n",
      " CHEMBL263322_i1   -10.240 A604\n",
      "    CHEMBL153865    -9.669 A604\n",
      "\n",
      "--- Top 10 Ligands for Site: B605 ---\n",
      "          Ligand  Affinity Site\n",
      "CHEMBL1083069_i0    -12.88 B605\n",
      "CHEMBL1083069_i2    -12.61 B605\n",
      "CHEMBL1083069_i1    -12.60 B605\n",
      "CHEMBL1083069_i3    -12.45 B605\n",
      "    CHEMBL153865    -10.37 B605\n",
      " CHEMBL263322_i0    -10.33 B605\n",
      "    CHEMBL345905    -10.09 B605\n",
      " CHEMBL263322_i1    -10.09 B605\n",
      "\n",
      "--- Combined Top Ligands (Sorted by Affinity) ---\n",
      "          Ligand  Affinity Site\n",
      "CHEMBL1083069_i1   -12.930 A604\n",
      "CHEMBL1083069_i0   -12.880 B605\n",
      "CHEMBL1083069_i0   -12.660 A604\n",
      "CHEMBL1083069_i2   -12.610 B605\n",
      "CHEMBL1083069_i1   -12.600 B605\n",
      "CHEMBL1083069_i2   -12.550 A604\n",
      "CHEMBL1083069_i3   -12.450 B605\n",
      "CHEMBL1083069_i3   -12.430 A604\n",
      "    CHEMBL345905   -10.590 A604\n",
      " CHEMBL263322_i0   -10.500 A604\n",
      "    CHEMBL153865   -10.370 B605\n",
      " CHEMBL263322_i0   -10.330 B605\n",
      " CHEMBL263322_i1   -10.240 A604\n",
      "    CHEMBL345905   -10.090 B605\n",
      " CHEMBL263322_i1   -10.090 B605\n",
      "    CHEMBL153865    -9.669 A604\n"
     ]
    }
   ],
   "source": [
    "import glob, os, pandas as pd\n",
    "\n",
    "def parse_vina_log(f):\n",
    "    try:\n",
    "        L = open(f).read().splitlines()\n",
    "        i = next((i for i,l in enumerate(L) if l.startswith(\"mode |   affinity\")), None)\n",
    "        j = next((j for j in range(i+1,len(L)) if L[j].startswith(\"-----\")), None) if i is not None else None\n",
    "        if j is None: return None\n",
    "        for p in (l.split() for l in L[j+1:]):\n",
    "            if p and p[0]==\"1\": return float(p[1])\n",
    "            if not p or not p[0].isdigit(): break\n",
    "    except:\n",
    "        return None\n",
    "\n",
    "def rank_site(id, dir, top=10):\n",
    "    logs = glob.glob(os.path.join(dir, \"vina_logs\", \"*_vina_log.txt\"))\n",
    "    if not logs:\n",
    "        raise FileNotFoundError(f\"No Vina log files in {dir}\")\n",
    "    df = pd.DataFrame([\n",
    "        {\"Ligand\": os.path.basename(l).replace(\"_vina_log.txt\",\"\"),\n",
    "         \"Affinity\": a, \"Site\": id}\n",
    "        for l in logs if (a := parse_vina_log(l)) is not None\n",
    "    ])\n",
    "    if df.empty:\n",
    "        raise ValueError(f\"No valid affinities in {dir}\")\n",
    "    df = df.sort_values(\"Affinity\")\n",
    "    print(f\"\\n--- Top {top} Ligands for Site: {id} ---\\n{df.head(top).to_string(index=False)}\")\n",
    "    return df\n",
    "\n",
    "all_dfs = []\n",
    "for id, prep, d in [\n",
    "    (site_A604_identifier, site_A604_preparation_results, site_A604_main_directory),\n",
    "    (site_B605_identifier, site_B605_preparation_results, site_B605_main_directory)\n",
    "]:\n",
    "    if prep:\n",
    "        try:\n",
    "            all_dfs.append(rank_site(id, d, 10))\n",
    "        except Exception as e:\n",
    "            print(f\"Error ranking site {id}: {e}\")\n",
    "\n",
    "if all_dfs:\n",
    "    combined = pd.concat(all_dfs, ignore_index=True).sort_values(\"Affinity\")\n",
    "    print(\"\\n--- Combined Top Ligands (Sorted by Affinity) ---\")\n",
    "    print(combined.head(min(20, len(combined))).to_string(index=False))\n",
    "else:\n",
    "    print(\"\\nNo ligand affinities successfully parsed and ranked for any site.\")\n"
   ]
  }
 ],
 "metadata": {
  "kernelspec": {
   "display_name": "Python 3",
   "language": "python",
   "name": "python3"
  },
  "language_info": {
   "codemirror_mode": {
    "name": "ipython",
    "version": 3
   },
   "file_extension": ".py",
   "mimetype": "text/x-python",
   "name": "python",
   "nbconvert_exporter": "python",
   "pygments_lexer": "ipython3",
   "version": "3.10.17"
  }
 },
 "nbformat": 4,
 "nbformat_minor": 2
}
